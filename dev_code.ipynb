{
 "cells": [
  {
   "cell_type": "code",
   "execution_count": 1,
   "id": "67a2fa02",
   "metadata": {},
   "outputs": [],
   "source": [
    "from TLP import TLP\n",
    "from helper import generate_data"
   ]
  },
  {
   "cell_type": "code",
   "execution_count": null,
   "id": "274ace6d",
   "metadata": {},
   "outputs": [
    {
     "name": "stdout",
     "output_type": "stream",
     "text": [
      "-2.4999999999999982 -0.9999999999999982 -1.9999999999999982\n",
      "Training Q Learners...\n"
     ]
    },
    {
     "name": "stderr",
     "output_type": "stream",
     "text": [
      "100%|███████████████████████████████████████████| 11/11 [00:05<00:00,  1.99it/s]\n",
      "100%|███████████████████████████████████████████| 11/11 [00:00<00:00, 13.81it/s]\n"
     ]
    },
    {
     "name": "stdout",
     "output_type": "stream",
     "text": [
      "Generating QAW Predictions \n",
      "Training G Learners...\n"
     ]
    },
    {
     "name": "stderr",
     "output_type": "stream",
     "text": [
      " 43%|███████████████████▎                         | 3/7 [01:06<02:00, 30.05s/it]"
     ]
    }
   ],
   "source": [
    "\n",
    "est_dict_Q = ['Elastic', 'BR', 'SV', 'LR', 'RF', 'MLP', 'AB', 'poly']\n",
    "est_dict_G = ['LR', 'NB', 'MLP','SV', 'poly', 'RF','AB']\n",
    "\n",
    "'''\n",
    "BR = bayesian ridge (reg)\n",
    "Elastic = elastic net (reg)\n",
    "SV = support vector (reg/cls)\n",
    "LR = linear/logistic regression (reg/cls)\n",
    "RF = random forest (reg/cls)\n",
    "MLP = multilayer perceptron (reg/cls)\n",
    "AB = adaboost (reg/cls)\n",
    "poly = polynomial linear/logistic regression (reg/cls)\n",
    "NB = Gaussian Naive Bayes (cls)'''\n",
    "\n",
    "outcome_type = 'reg'   # cls or reg\n",
    "treatment_type = 'multigroup' # binary or multigroup\n",
    "N = 600\n",
    "data = generate_data(N=N, outcome_type=outcome_type, treatment_type=treatment_type)\n",
    "\n",
    "true_psi_1_0 = data.Y1.mean() - data.Y0.mean()\n",
    "true_psi_2_0 = data.Y2.mean() - data.Y0.mean()\n",
    "true_psi_3_0 = data.Y3.mean() - data.Y0.mean()\n",
    "print(true_psi_1_0, true_psi_2_0, true_psi_3_0)\n",
    "\n",
    "k = 8\n",
    "tlp = TLP(data, cause='A', outcome='Y', confs=['W1', 'W2', 'W3', 'W4'],\n",
    "          precs=[], outcome_type=outcome_type, Q_learners=est_dict_Q, G_learners=est_dict_G)\n",
    "\n",
    "group_comparisons =[[1,0],[2,0],[3,0]]  # comparison in list format with 'group A [vs] reference_group'\n",
    "\n",
    "all_preds_Q, gts_Q, all_preds_G, gts_G = tlp.fit(k=k, standardized_outcome=False, calibration=True)\n",
    "pre_update_effects, post_update_effects, ses, ps = tlp.target_multigroup(group_comparisons=group_comparisons)\n",
    "print(post_update_effects)\n",
    "print(true_psi_1_0, true_psi_2_0, true_psi_3_0)\n"
   ]
  },
  {
   "cell_type": "code",
   "execution_count": null,
   "id": "e7530dff",
   "metadata": {},
   "outputs": [],
   "source": []
  },
  {
   "cell_type": "code",
   "execution_count": null,
   "id": "757e5b5a",
   "metadata": {},
   "outputs": [],
   "source": []
  },
  {
   "cell_type": "code",
   "execution_count": null,
   "id": "3f338f4d",
   "metadata": {},
   "outputs": [],
   "source": []
  },
  {
   "cell_type": "code",
   "execution_count": null,
   "id": "0cc42f2d",
   "metadata": {},
   "outputs": [],
   "source": []
  },
  {
   "cell_type": "code",
   "execution_count": null,
   "id": "6e45ce43",
   "metadata": {},
   "outputs": [],
   "source": []
  },
  {
   "cell_type": "code",
   "execution_count": null,
   "id": "293f2e0f",
   "metadata": {},
   "outputs": [],
   "source": []
  },
  {
   "cell_type": "code",
   "execution_count": null,
   "id": "82f35e82",
   "metadata": {},
   "outputs": [],
   "source": []
  },
  {
   "cell_type": "code",
   "execution_count": null,
   "id": "767d4a48",
   "metadata": {},
   "outputs": [],
   "source": []
  },
  {
   "cell_type": "code",
   "execution_count": null,
   "id": "363250b2",
   "metadata": {},
   "outputs": [],
   "source": []
  },
  {
   "cell_type": "code",
   "execution_count": null,
   "id": "8fea1235",
   "metadata": {},
   "outputs": [],
   "source": []
  }
 ],
 "metadata": {
  "kernelspec": {
   "display_name": "Python 3",
   "language": "python",
   "name": "python3"
  },
  "language_info": {
   "codemirror_mode": {
    "name": "ipython",
    "version": 3
   },
   "file_extension": ".py",
   "mimetype": "text/x-python",
   "name": "python",
   "nbconvert_exporter": "python",
   "pygments_lexer": "ipython3",
   "version": "3.9.7"
  }
 },
 "nbformat": 4,
 "nbformat_minor": 5
}
