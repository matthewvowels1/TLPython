{
 "cells": [
  {
   "cell_type": "code",
   "execution_count": 1,
   "id": "9818521e",
   "metadata": {},
   "outputs": [],
   "source": [
    "from TLP import TLP\n",
    "from helper import generate_data"
   ]
  },
  {
   "cell_type": "code",
   "execution_count": 2,
   "id": "a6fffdd2",
   "metadata": {},
   "outputs": [
    {
     "name": "stdout",
     "output_type": "stream",
     "text": [
      "-2.4999999999999982 -0.9999999999999982 -1.9999999999999982\n",
      "Training Q Learners...\n"
     ]
    },
    {
     "name": "stderr",
     "output_type": "stream",
     "text": [
      "100%|███████████████████████████████████████████| 11/11 [00:05<00:00,  1.99it/s]\n",
      "100%|███████████████████████████████████████████| 11/11 [00:00<00:00, 13.81it/s]\n"
     ]
    },
    {
     "name": "stdout",
     "output_type": "stream",
     "text": [
      "Generating QAW Predictions \n",
      "Training G Learners...\n"
     ]
    },
    {
     "name": "stderr",
     "output_type": "stream",
     "text": [
      "100%|█████████████████████████████████████████████| 7/7 [01:20<00:00, 11.57s/it]\n",
      "100%|█████████████████████████████████████████████| 7/7 [00:01<00:00,  3.94it/s]"
     ]
    },
    {
     "name": "stdout",
     "output_type": "stream",
     "text": [
      "Generating G Predictions \n",
      "SuperLearner Training Completed.\n",
      "Generating Predictions for Counterfactual Outcomes\n",
      "Estimating Clever Covariates\n",
      "Estimating Fluctuation Parameters\n",
      "Updating Initial Counterfactual Predictions\n",
      "Deriving the Influence Function\n",
      "{'[1, 0]': -2.509243099215336, '[2, 0]': -0.972982768162712, '[3, 0]': -1.989805107110989}\n",
      "-2.4999999999999982 -0.9999999999999982 -1.9999999999999982\n"
     ]
    },
    {
     "name": "stderr",
     "output_type": "stream",
     "text": [
      "\n"
     ]
    }
   ],
   "source": [
    "\n",
    "est_dict_Q = ['Elastic', 'BR', 'SV', 'LR', 'RF', 'MLP', 'AB', 'poly']\n",
    "est_dict_G = ['LR', 'NB', 'MLP','SV', 'poly', 'RF','AB']\n",
    "\n",
    "'''\n",
    "BR = bayesian ridge (reg)\n",
    "Elastic = elastic net (reg)\n",
    "SV = support vector (reg/cls)\n",
    "LR = linear/logistic regression (reg/cls)\n",
    "RF = random forest (reg/cls)\n",
    "MLP = multilayer perceptron (reg/cls)\n",
    "AB = adaboost (reg/cls)\n",
    "poly = polynomial linear/logistic regression (reg/cls)\n",
    "NB = Gaussian Naive Bayes (cls)'''\n",
    "\n",
    "outcome_type = 'reg'   # cls or reg\n",
    "treatment_type = 'multigroup' # binary or multigroup\n",
    "N = 600\n",
    "data = generate_data(N=N, outcome_type=outcome_type, treatment_type=treatment_type)\n",
    "\n",
    "true_psi_1_0 = data.Y1.mean() - data.Y0.mean()\n",
    "true_psi_2_0 = data.Y2.mean() - data.Y0.mean()\n",
    "true_psi_3_0 = data.Y3.mean() - data.Y0.mean()\n",
    "print(true_psi_1_0, true_psi_2_0, true_psi_3_0)\n",
    "\n",
    "k = 8\n",
    "tlp = TLP(data, cause='A', outcome='Y', confs=['W1', 'W2', 'W3', 'W4'],\n",
    "          precs=[], outcome_type=outcome_type, Q_learners=est_dict_Q, G_learners=est_dict_G)\n",
    "\n",
    "group_comparisons =[[1,0],[2,0],[3,0]]  # comparison in list format with 'group A [vs] reference_group'\n",
    "\n",
    "all_preds_Q, gts_Q, all_preds_G, gts_G = tlp.fit(k=k, standardized_outcome=False, calibration=True)\n",
    "pre_update_effects, post_update_effects, ses, ps = tlp.target_multigroup(group_comparisons=group_comparisons)\n",
    "print(post_update_effects)\n",
    "print(true_psi_1_0, true_psi_2_0, true_psi_3_0)\n"
   ]
  },
  {
   "cell_type": "code",
   "execution_count": null,
   "id": "7bbe7769",
   "metadata": {},
   "outputs": [],
   "source": []
  },
  {
   "cell_type": "code",
   "execution_count": null,
   "id": "afdfed4c",
   "metadata": {},
   "outputs": [],
   "source": []
  },
  {
   "cell_type": "code",
   "execution_count": null,
   "id": "be2eb091",
   "metadata": {},
   "outputs": [],
   "source": []
  },
  {
   "cell_type": "code",
   "execution_count": null,
   "id": "2f9a8bf5",
   "metadata": {},
   "outputs": [],
   "source": []
  },
  {
   "cell_type": "code",
   "execution_count": null,
   "id": "005ea8e0",
   "metadata": {},
   "outputs": [],
   "source": []
  },
  {
   "cell_type": "code",
   "execution_count": null,
   "id": "c9e6a166",
   "metadata": {},
   "outputs": [],
   "source": []
  },
  {
   "cell_type": "code",
   "execution_count": null,
   "id": "b7a3e331",
   "metadata": {},
   "outputs": [],
   "source": []
  },
  {
   "cell_type": "code",
   "execution_count": null,
   "id": "e78ecb98",
   "metadata": {},
   "outputs": [],
   "source": []
  },
  {
   "cell_type": "code",
   "execution_count": null,
   "id": "ef78801d",
   "metadata": {},
   "outputs": [],
   "source": []
  },
  {
   "cell_type": "code",
   "execution_count": null,
   "id": "b3959bd2",
   "metadata": {},
   "outputs": [],
   "source": []
  }
 ],
 "metadata": {
  "kernelspec": {
   "display_name": "Python 3",
   "language": "python",
   "name": "python3"
  },
  "language_info": {
   "codemirror_mode": {
    "name": "ipython",
    "version": 3
   },
   "file_extension": ".py",
   "mimetype": "text/x-python",
   "name": "python",
   "nbconvert_exporter": "python",
   "pygments_lexer": "ipython3",
   "version": "3.9.7"
  }
 },
 "nbformat": 4,
 "nbformat_minor": 5
}
