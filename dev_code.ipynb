{
 "cells": [
  {
   "cell_type": "code",
   "execution_count": 1,
   "id": "7b006f09",
   "metadata": {},
   "outputs": [],
   "source": [
    "import os\n",
    "import pandas as pd\n",
    "import numpy as np\n",
    "import networkx as nx\n",
    "import matplotlib.pyplot as plt\n",
    "import seaborn as sns\n",
    "from super_learner import*\n",
    "import statsmodels.api as sm\n",
    "from scipy.stats import norm, t\n",
    "from scipy.special import logit, expit\n",
    "import random\n",
    "from TLP import TLP\n"
   ]
  },
  {
   "cell_type": "code",
   "execution_count": 2,
   "id": "e9b1988d",
   "metadata": {},
   "outputs": [],
   "source": [
    "def generate_data(N, outcome_type, treatment_type):\n",
    "\n",
    "    W1 = np.random.binomial(1, 0.5, N)\n",
    "    W2 = np.random.binomial(1, 0.65, N)\n",
    "    W3 = np.round(np.random.uniform(0, 4, N), decimals=3)\n",
    "    W4 = np.round(np.random.uniform(0, 5, N), decimals=3)\n",
    "\n",
    "    if treatment_type == 'binary':\n",
    "        Ap = expit(-0.4 + 0.2*W2 + 0.15*W3 + 0.2*W4 + 0.15*W2*W4)\n",
    "        A = np.random.binomial(1, Ap, N)\n",
    "        \n",
    "    elif treatment_type == 'multigroup':\n",
    "        Ap1 = expit(-0.4 + 0.2*W2 + 0.3*W3 + 0.1*W4 + 0.4*W2*W4)\n",
    "        Ap2 = expit(-0.4 + 0.5*W2 + 0.1*W3 + 0.2*W4 + 0.1*W2*W4)\n",
    "        Ap3 = expit(-0.4 + 0.7*W2 + 0.5*W3 + 0.3*W4 + 0.2*W2*W4)\n",
    "        Ap4 = expit(-0.4 + 0.1*W2 + 0.2*W3 + 0.4*W4 + 0.1*W2*W4)\n",
    "        Ap = np.array([Ap1, Ap2, Ap3, Ap4]).T\n",
    "        Ap = (Ap / Ap.sum(1).reshape(-1,1))\n",
    "        \n",
    "        l = [0,1,2,3]\n",
    "        A = []\n",
    "        for i in range(len(Ap)):\n",
    "            ap = Ap[i]\n",
    "            onehot = np.zeros((4,1))\n",
    "            choice = random.choices(l, ap)\n",
    "            onehot[choice] = 1\n",
    "            A.append(onehot)\n",
    "        A = np.concatenate(A,1).T\n",
    "\n",
    "\n",
    "    if outcome_type == 'cls':\n",
    "        \n",
    "        if treatment_type  == 'binary':\n",
    "            Y1p = expit(-1 + 1 -0.1*W1 + 0.3*W2 + 0.25*W3 + 0.2*W4 + 0.15*W2*W4)\n",
    "            Y0p = expit(-1 + 0 -0.1*W1 + 0.3*W2 + 0.25*W3 + 0.2*W4 + 0.15*W2*W4)\n",
    "            Y1 = np.random.binomial(1, Y1p, N)\n",
    "            Y0 = np.random.binomial(1, Y0p, N)\n",
    "            Y = Y1*A + Y0*(1-A)\n",
    "            \n",
    "        if treatment_type == 'multigroup':         \n",
    "            Y3p = expit(-1 + 1 -0.1*W1 + 0.3*W2 + 0.25*W3 + 0.2*W4 + 0.15*W2*W4)\n",
    "            Y2p = expit(-1 + 2 -0.1*W1 + 0.3*W2 + 0.25*W3 + 0.2*W4 + 0.15*W2*W4)\n",
    "            Y1p = expit(-1 + 0.5 -0.1*W1 + 0.3*W2 + 0.25*W3 + 0.2*W4 + 0.15*W2*W4)\n",
    "            Y0p = expit(-1 + 8 -0.1*W1 + 0.3*W2 + 0.25*W3 + 0.2*W4 + 0.15*W2*W4)\n",
    "            \n",
    "            Y3 = np.random.binomial(1, Y3p, N)\n",
    "            Y2 = np.random.binomial(1, Y2p, N)\n",
    "            Y1 = np.random.binomial(1, Y1p, N)\n",
    "            Y0 = np.random.binomial(1, Y0p, N)\n",
    "\n",
    "            Y = A[:, 3] * Y3 + A[:, 2] * Y2 +  A[:, 1] * Y1 +  A[:, 0] * Y0\n",
    "            \n",
    "    elif outcome_type == 'reg':\n",
    "        \n",
    "        if treatment_type == 'binary':\n",
    "            Y1 = -1 + 2*A -0.1*W1 + 0.3*W2 + 0.25*W3 + 0.2*W4 + 0.15*W2*W4\n",
    "            Y0 = -1 + 0 -0.1*W1 + 0.3*W2 + 0.25*W3 + 0.2*W4 + 0.15*W2*W4\n",
    "\n",
    "            Y = Y1*A + Y0*(1-A)\n",
    "        \n",
    "        if treatment_type == 'multigroup':       \n",
    "            Y3 = -1 + 1 -0.1*W1 + 0.3*W2 + 0.25*W3 + 0.2*W4 + 0.15*W2*W4\n",
    "            Y2 = -1 + 2 -0.1*W1 + 0.3*W2 + 0.25*W3 + 0.2*W4 + 0.15*W2*W4\n",
    "            Y1 = -1 + 0.5 -0.1*W1 + 0.3*W2 + 0.25*W3 + 0.2*W4 + 0.15*W2*W4\n",
    "            Y0 = -1 + 3 -0.1*W1 + 0.3*W2 + 0.25*W3 + 0.2*W4 + 0.15*W2*W4   \n",
    "\n",
    "            Y = A[:, 3] * Y3 + A[:, 2] * Y2 +  A[:, 1] * Y1 +  A[:, 0] * Y0\n",
    "        Y = np.clip(Y, -1, 6)\n",
    "            \n",
    "    if treatment_type == 'multigroup':\n",
    "        data = pd.DataFrame([W1, W2, W3, W4, A, Y, Y0, Y1, Y2, Y3]).T\n",
    "        data.columns = ['W1', 'W2', 'W3', 'W4', 'Adummy', 'Y', 'Y0','Y1', 'Y2', 'Y3']\n",
    "        \n",
    "        A_group = []\n",
    "        for a in data.Adummy.values:\n",
    "            val = np.where(a==1)\n",
    "            A_group.append(val[0])\n",
    "        A_group = np.concatenate(A_group)\n",
    "        data['A'] = A_group \n",
    "    elif treatment_type == 'binary':\n",
    "        data = pd.DataFrame([W1, W2, W3, W4, A, Y, Y1, Y0]).T\n",
    "        data.columns = ['W1', 'W2', 'W3', 'W4', 'A', 'Y', 'Y1','Y0']\n",
    "    return data\n",
    "    "
   ]
  },
  {
   "cell_type": "code",
   "execution_count": null,
   "id": "5470bbe8",
   "metadata": {},
   "outputs": [
    {
     "name": "stdout",
     "output_type": "stream",
     "text": [
      "-2.5000000000000027 -1.0000000000000013 -2.000000000000003\n",
      "Training G Learners...\n"
     ]
    },
    {
     "name": "stderr",
     "output_type": "stream",
     "text": [
      " 29%|████████████▊                                | 2/7 [00:00<00:01,  2.71it/s]"
     ]
    }
   ],
   "source": [
    "est_dict_Q = ['Elastic', 'BR', 'SV', 'LR', 'RF', 'MLP', 'AB', 'poly']\n",
    "est_dict_Q = ['BR', 'SV', 'LR', 'RF', 'MLP', 'AB', 'poly']\n",
    "est_dict_G = ['LR', 'NB', 'MLP','SV', 'poly', 'RF','AB']\n",
    "\n",
    "'''\n",
    "BR = bayesian ridge (reg)\n",
    "Elastic = elastic net (reg)\n",
    "SV = support vector (reg/cls)\n",
    "LR = linear/logistic regression (reg/cls)\n",
    "RF = random forest (reg/cls)\n",
    "MLP = multilayer perceptron (reg/cls)\n",
    "AB = adaboost (reg/cls)\n",
    "poly = polynomial linear/logistic regression (reg/cls)\n",
    "NB = Gaussian Naive Bayes (cls)'''\n",
    "\n",
    "outcome_type = 'reg'   # cls or reg\n",
    "treatment_type = 'multigroup' # binary or multigroup\n",
    "N = 600\n",
    "data = generate_data(N=N, outcome_type=outcome_type, treatment_type=treatment_type)\n",
    "\n",
    "true_psi_1_0 = data.Y1.mean() - data.Y0.mean()\n",
    "true_psi_2_0 = data.Y2.mean() - data.Y0.mean()\n",
    "true_psi_3_0 = data.Y3.mean() - data.Y0.mean()\n",
    "print(true_psi_1_0, true_psi_2_0, true_psi_3_0)\n",
    "\n",
    "k = 8\n",
    "tlp = TLP(data, cause='A', outcome='Y', confs=['W1', 'W2', 'W3', 'W4'],\n",
    "          precs=[], outcome_type=outcome_type, Q_learners=est_dict_Q, G_learners=est_dict_G)\n",
    "\n",
    "group_comparisons =[[1,0],[2,0],[3,0]]  # comparison in list format with 'group A [vs] reference_group'\n",
    "\n",
    "all_preds_Q, gts_Q, all_preds_G, gts_G = tlp.fit(k=k, standardized_outcome=False, calibration=True)\n",
    "pre_update_effects, post_update_effects, ses, ps = tlp.target_multigroup(group_comparisons=group_comparisons)\n",
    "print(post_update_effects)\n",
    "print(true_psi_1_0, true_psi_2_0, true_psi_3_0)\n"
   ]
  },
  {
   "cell_type": "code",
   "execution_count": null,
   "id": "49be0011",
   "metadata": {},
   "outputs": [],
   "source": []
  },
  {
   "cell_type": "code",
   "execution_count": null,
   "id": "987d54ac",
   "metadata": {},
   "outputs": [],
   "source": []
  },
  {
   "cell_type": "code",
   "execution_count": null,
   "id": "ee2e3c81",
   "metadata": {},
   "outputs": [],
   "source": []
  },
  {
   "cell_type": "code",
   "execution_count": null,
   "id": "179b148b",
   "metadata": {},
   "outputs": [],
   "source": []
  },
  {
   "cell_type": "code",
   "execution_count": null,
   "id": "ca763c28",
   "metadata": {},
   "outputs": [],
   "source": []
  },
  {
   "cell_type": "code",
   "execution_count": null,
   "id": "00bb22da",
   "metadata": {},
   "outputs": [],
   "source": []
  },
  {
   "cell_type": "code",
   "execution_count": null,
   "id": "2945e06f",
   "metadata": {},
   "outputs": [],
   "source": []
  },
  {
   "cell_type": "code",
   "execution_count": null,
   "id": "d5f5b79e",
   "metadata": {},
   "outputs": [],
   "source": []
  },
  {
   "cell_type": "code",
   "execution_count": null,
   "id": "e534dec9",
   "metadata": {},
   "outputs": [],
   "source": []
  },
  {
   "cell_type": "code",
   "execution_count": null,
   "id": "b0c96a0f",
   "metadata": {},
   "outputs": [],
   "source": []
  }
 ],
 "metadata": {
  "kernelspec": {
   "display_name": "Python 3",
   "language": "python",
   "name": "python3"
  },
  "language_info": {
   "codemirror_mode": {
    "name": "ipython",
    "version": 3
   },
   "file_extension": ".py",
   "mimetype": "text/x-python",
   "name": "python",
   "nbconvert_exporter": "python",
   "pygments_lexer": "ipython3",
   "version": "3.9.7"
  }
 },
 "nbformat": 4,
 "nbformat_minor": 5
}
