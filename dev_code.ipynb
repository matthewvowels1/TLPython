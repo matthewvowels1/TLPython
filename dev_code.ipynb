{
 "cells": [
  {
   "cell_type": "code",
   "execution_count": 1,
   "id": "9818521e",
   "metadata": {},
   "outputs": [],
   "source": [
    "from TLP import TLP\n",
    "from helper import generate_data"
   ]
  },
  {
   "cell_type": "code",
   "execution_count": 9,
   "id": "a6fffdd2",
   "metadata": {},
   "outputs": [
    {
     "name": "stdout",
     "output_type": "stream",
     "text": [
      "-2.499999999999999 -1.0000000000000004 -1.999999999999999\n",
      "Training Q Learners...\n"
     ]
    },
    {
     "name": "stderr",
     "output_type": "stream",
     "text": [
      "100%|██████████| 11/11 [00:02<00:00,  5.35it/s]\n",
      "100%|██████████| 11/11 [00:00<00:00, 30.16it/s]\n"
     ]
    },
    {
     "name": "stdout",
     "output_type": "stream",
     "text": [
      "Generating QAW Predictions \n",
      "Training G Learners...\n"
     ]
    },
    {
     "name": "stderr",
     "output_type": "stream",
     "text": [
      "100%|██████████| 6/6 [00:06<00:00,  1.12s/it]\n",
      "100%|██████████| 6/6 [00:00<00:00, 47.16it/s]"
     ]
    },
    {
     "name": "stdout",
     "output_type": "stream",
     "text": [
      "Generating G Predictions \n",
      "SuperLearner Training Completed.\n",
      "Generating Predictions for Counterfactual Outcomes\n",
      "Estimating Clever Covariates\n",
      "Estimating Fluctuation Parameters\n",
      "Updating Initial Counterfactual Predictions\n",
      "Deriving the Influence Function, standard error, CI bounds and p-values\n",
      "{'[1, 0]': -2.2163323464851827, '[2, 0]': -0.9608995094581667, '[3, 0]': -1.8713263737621153}\n",
      "-2.499999999999999 -1.0000000000000004 -1.999999999999999\n"
     ]
    },
    {
     "name": "stderr",
     "output_type": "stream",
     "text": [
      "\n"
     ]
    }
   ],
   "source": [
    "\n",
    "est_dict_Q = ['Elastic', 'BR', 'SV', 'LR', 'RF', 'MLP', 'AB', 'poly']\n",
    "est_dict_G = ['LR', 'NB','SV', 'poly', 'RF','AB']\n",
    "\n",
    "'''\n",
    "BR = bayesian ridge (reg)\n",
    "Elastic = elastic net (reg)\n",
    "SV = support vector (reg/cls)\n",
    "LR = linear/logistic regression (reg/cls)\n",
    "RF = random forest (reg/cls)\n",
    "MLP = multilayer perceptron (reg/cls)\n",
    "AB = adaboost (reg/cls)\n",
    "poly = polynomial linear/logistic regression (reg/cls)\n",
    "NB = Gaussian Naive Bayes (cls)'''\n",
    "\n",
    "outcome_type = 'reg'   # cls or reg\n",
    "treatment_type = 'multigroup' # binary or multigroup\n",
    "N = 100\n",
    "data = generate_data(N=N, outcome_type=outcome_type, treatment_type=treatment_type)\n",
    "\n",
    "true_psi_1_0 = data.Y1.mean() - data.Y0.mean()\n",
    "true_psi_2_0 = data.Y2.mean() - data.Y0.mean()\n",
    "true_psi_3_0 = data.Y3.mean() - data.Y0.mean()\n",
    "print(true_psi_1_0, true_psi_2_0, true_psi_3_0)\n",
    "\n",
    "k = 5\n",
    "tlp = TLP(data, cause='A', outcome='Y', confs=['W1', 'W2', 'W3', 'W4'],\n",
    "          precs=[], outcome_type=outcome_type, Q_learners=est_dict_Q, G_learners=est_dict_G)\n",
    "\n",
    "group_comparisons =[[1,0],[2,0],[3,0]]  # comparison in list format with 'group A [vs] reference_group'\n",
    "\n",
    "all_preds_Q, gts_Q, all_preds_G, gts_G = tlp.fit(k=k, standardized_outcome=False, calibration=False)\n",
    "pre_update_effects, post_update_effects, ses, ps = tlp.target_multigroup(group_comparisons=group_comparisons)\n",
    "print(post_update_effects)\n",
    "print(true_psi_1_0, true_psi_2_0, true_psi_3_0)\n"
   ]
  },
  {
   "cell_type": "code",
   "execution_count": null,
   "id": "7bbe7769",
   "metadata": {},
   "outputs": [],
   "source": []
  },
  {
   "cell_type": "code",
   "execution_count": null,
   "id": "afdfed4c",
   "metadata": {},
   "outputs": [],
   "source": []
  },
  {
   "cell_type": "code",
   "execution_count": 10,
   "id": "be2eb091",
   "metadata": {},
   "outputs": [
    {
     "data": {
      "text/plain": [
       "{'[1, 0]': -0.03262699876086542,\n",
       " '[2, 0]': 0.03168848110370781,\n",
       " '[3, 0]': -0.009822445270829039}"
      ]
     },
     "execution_count": 10,
     "metadata": {},
     "output_type": "execute_result"
    }
   ],
   "source": [
    "tlp.epsilons"
   ]
  },
  {
   "cell_type": "code",
   "execution_count": null,
   "id": "2f9a8bf5",
   "metadata": {},
   "outputs": [],
   "source": []
  },
  {
   "cell_type": "code",
   "execution_count": null,
   "id": "005ea8e0",
   "metadata": {},
   "outputs": [],
   "source": []
  },
  {
   "cell_type": "code",
   "execution_count": null,
   "id": "c9e6a166",
   "metadata": {},
   "outputs": [],
   "source": []
  },
  {
   "cell_type": "code",
   "execution_count": null,
   "id": "b7a3e331",
   "metadata": {},
   "outputs": [],
   "source": []
  },
  {
   "cell_type": "code",
   "execution_count": null,
   "id": "e78ecb98",
   "metadata": {},
   "outputs": [],
   "source": []
  },
  {
   "cell_type": "code",
   "execution_count": null,
   "id": "ef78801d",
   "metadata": {},
   "outputs": [],
   "source": []
  },
  {
   "cell_type": "code",
   "execution_count": null,
   "id": "b3959bd2",
   "metadata": {},
   "outputs": [],
   "source": []
  }
 ],
 "metadata": {
  "kernelspec": {
   "display_name": "Python 3",
   "language": "python",
   "name": "python3"
  },
  "language_info": {
   "codemirror_mode": {
    "name": "ipython",
    "version": 3
   },
   "file_extension": ".py",
   "mimetype": "text/x-python",
   "name": "python",
   "nbconvert_exporter": "python",
   "pygments_lexer": "ipython3",
   "version": "3.7.12"
  }
 },
 "nbformat": 4,
 "nbformat_minor": 5
}
